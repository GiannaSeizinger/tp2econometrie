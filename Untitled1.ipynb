{
 "cells": [
  {
   "cell_type": "code",
   "execution_count": 1,
   "id": "0ada990c",
   "metadata": {},
   "outputs": [],
   "source": [
    "import numpy as np"
   ]
  },
  {
   "cell_type": "code",
   "execution_count": 2,
   "id": "08e5771a",
   "metadata": {},
   "outputs": [],
   "source": [
    "import pandas as pd"
   ]
  },
  {
   "cell_type": "code",
   "execution_count": 3,
   "id": "33070b77",
   "metadata": {},
   "outputs": [],
   "source": [
    "np.random.seed(0)"
   ]
  },
  {
   "cell_type": "code",
   "execution_count": 4,
   "id": "892652ac",
   "metadata": {},
   "outputs": [],
   "source": [
    "x=np.linspace(0,100,100)"
   ]
  },
  {
   "cell_type": "code",
   "execution_count": 5,
   "id": "e8ed7877",
   "metadata": {},
   "outputs": [],
   "source": [
    "y=3*x+np.random.normal(0,10,100)"
   ]
  },
  {
   "cell_type": "code",
   "execution_count": 6,
   "id": "9b1eddb8",
   "metadata": {},
   "outputs": [],
   "source": [
    "data=pd.DataFrame(data={'x':x,'y':y})"
   ]
  },
  {
   "cell_type": "code",
   "execution_count": 7,
   "id": "e0f4a334",
   "metadata": {},
   "outputs": [
    {
     "name": "stdout",
     "output_type": "stream",
     "text": [
      "          x          y\n",
      "0  0.000000  17.640523\n",
      "1  1.010101   7.031875\n",
      "2  2.020202  15.847986\n",
      "3  3.030303  31.499841\n",
      "4  4.040404  30.796792\n"
     ]
    }
   ],
   "source": [
    "print(data.head())"
   ]
  },
  {
   "cell_type": "code",
   "execution_count": null,
   "id": "f17a3948",
   "metadata": {},
   "outputs": [],
   "source": []
  }
 ],
 "metadata": {
  "kernelspec": {
   "display_name": "Python 3 (ipykernel)",
   "language": "python",
   "name": "python3"
  },
  "language_info": {
   "codemirror_mode": {
    "name": "ipython",
    "version": 3
   },
   "file_extension": ".py",
   "mimetype": "text/x-python",
   "name": "python",
   "nbconvert_exporter": "python",
   "pygments_lexer": "ipython3",
   "version": "3.11.4"
  }
 },
 "nbformat": 4,
 "nbformat_minor": 5
}
